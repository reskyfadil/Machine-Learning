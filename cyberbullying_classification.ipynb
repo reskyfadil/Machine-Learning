{
  "metadata": {
    "kernelspec": {
      "language": "python",
      "display_name": "Python 3",
      "name": "python3"
    },
    "language_info": {
      "pygments_lexer": "ipython3",
      "nbconvert_exporter": "python",
      "version": "3.6.4",
      "file_extension": ".py",
      "codemirror_mode": {
        "name": "ipython",
        "version": 3
      },
      "name": "python",
      "mimetype": "text/x-python"
    },
    "colab": {
      "provenance": []
    }
  },
  "nbformat_minor": 0,
  "nbformat": 4,
  "cells": [
    {
      "cell_type": "markdown",
      "source": [
        "# Importing neccessary libraries and dataset"
      ],
      "metadata": {
        "id": "6x_kMU3nSi_s"
      }
    },
    {
      "cell_type": "code",
      "source": [
        "!pip install contractions\n",
        "!pip install nltk\n",
        "!pip install autocorrect \n",
        "!pip install --upgrade matplotlib"
      ],
      "metadata": {
        "id": "ra3ZQKLITQ7r",
        "outputId": "7c45a776-dc48-442b-8436-6e817dc860cd",
        "trusted": true,
        "colab": {
          "base_uri": "https://localhost:8080/"
        }
      },
      "execution_count": 1,
      "outputs": [
        {
          "output_type": "stream",
          "name": "stdout",
          "text": [
            "Looking in indexes: https://pypi.org/simple, https://us-python.pkg.dev/colab-wheels/public/simple/\n",
            "Requirement already satisfied: contractions in /usr/local/lib/python3.8/dist-packages (0.1.73)\n",
            "Requirement already satisfied: textsearch>=0.0.21 in /usr/local/lib/python3.8/dist-packages (from contractions) (0.0.24)\n",
            "Requirement already satisfied: pyahocorasick in /usr/local/lib/python3.8/dist-packages (from textsearch>=0.0.21->contractions) (1.4.4)\n",
            "Requirement already satisfied: anyascii in /usr/local/lib/python3.8/dist-packages (from textsearch>=0.0.21->contractions) (0.3.1)\n",
            "Looking in indexes: https://pypi.org/simple, https://us-python.pkg.dev/colab-wheels/public/simple/\n",
            "Requirement already satisfied: nltk in /usr/local/lib/python3.8/dist-packages (3.7)\n",
            "Requirement already satisfied: regex>=2021.8.3 in /usr/local/lib/python3.8/dist-packages (from nltk) (2022.6.2)\n",
            "Requirement already satisfied: tqdm in /usr/local/lib/python3.8/dist-packages (from nltk) (4.64.1)\n",
            "Requirement already satisfied: joblib in /usr/local/lib/python3.8/dist-packages (from nltk) (1.2.0)\n",
            "Requirement already satisfied: click in /usr/local/lib/python3.8/dist-packages (from nltk) (7.1.2)\n",
            "Looking in indexes: https://pypi.org/simple, https://us-python.pkg.dev/colab-wheels/public/simple/\n",
            "Requirement already satisfied: autocorrect in /usr/local/lib/python3.8/dist-packages (2.6.1)\n",
            "Looking in indexes: https://pypi.org/simple, https://us-python.pkg.dev/colab-wheels/public/simple/\n",
            "Requirement already satisfied: matplotlib in /usr/local/lib/python3.8/dist-packages (3.6.2)\n",
            "Requirement already satisfied: packaging>=20.0 in /usr/local/lib/python3.8/dist-packages (from matplotlib) (21.3)\n",
            "Requirement already satisfied: pillow>=6.2.0 in /usr/local/lib/python3.8/dist-packages (from matplotlib) (7.1.2)\n",
            "Requirement already satisfied: python-dateutil>=2.7 in /usr/local/lib/python3.8/dist-packages (from matplotlib) (2.8.2)\n",
            "Requirement already satisfied: cycler>=0.10 in /usr/local/lib/python3.8/dist-packages (from matplotlib) (0.11.0)\n",
            "Requirement already satisfied: numpy>=1.19 in /usr/local/lib/python3.8/dist-packages (from matplotlib) (1.21.6)\n",
            "Requirement already satisfied: fonttools>=4.22.0 in /usr/local/lib/python3.8/dist-packages (from matplotlib) (4.38.0)\n",
            "Requirement already satisfied: contourpy>=1.0.1 in /usr/local/lib/python3.8/dist-packages (from matplotlib) (1.0.6)\n",
            "Requirement already satisfied: kiwisolver>=1.0.1 in /usr/local/lib/python3.8/dist-packages (from matplotlib) (1.4.4)\n",
            "Requirement already satisfied: pyparsing>=2.2.1 in /usr/local/lib/python3.8/dist-packages (from matplotlib) (3.0.9)\n",
            "Requirement already satisfied: six>=1.5 in /usr/local/lib/python3.8/dist-packages (from python-dateutil>=2.7->matplotlib) (1.15.0)\n"
          ]
        }
      ]
    },
    {
      "cell_type": "code",
      "source": [
        "import string # from some string manipulation tasks\n",
        "import nltk # natural language toolkit\n",
        "import re # regex\n",
        "from string import punctuation # solving punctuation problems\n",
        "from nltk.corpus import stopwords # stop words in sentences\n",
        "from nltk.stem import WordNetLemmatizer # For stemming the sentence\n",
        "from nltk.stem import SnowballStemmer # For stemming the sentence\n",
        "from contractions import contractions_dict # to solve contractions\n",
        "from autocorrect import Speller #correcting the spellings\n",
        "nltk.download('wordnet')\n",
        "nltk.download('punkt')\n",
        "nltk.download('stopwords')\n",
        "\n",
        "#Libraries for general purpose\n",
        "import matplotlib.pyplot as plt\n",
        "import seaborn as sns\n",
        "\n",
        "\n",
        "#Data preprocessing\n",
        "from sklearn import preprocessing\n",
        "from sklearn.model_selection import train_test_split\n",
        "from imblearn.over_sampling import RandomOverSampler\n"
      ],
      "metadata": {
        "id": "h8BHgyTwRRaJ",
        "outputId": "3a54c3b6-2f51-4f42-81e9-15f6fa2583e2",
        "execution": {
          "iopub.status.busy": "2022-07-16T13:38:55.924735Z",
          "iopub.execute_input": "2022-07-16T13:38:55.925151Z",
          "iopub.status.idle": "2022-07-16T13:38:55.936749Z",
          "shell.execute_reply.started": "2022-07-16T13:38:55.925113Z",
          "shell.execute_reply": "2022-07-16T13:38:55.935693Z"
        },
        "trusted": true,
        "colab": {
          "base_uri": "https://localhost:8080/"
        }
      },
      "execution_count": 2,
      "outputs": [
        {
          "output_type": "stream",
          "name": "stderr",
          "text": [
            "[nltk_data] Downloading package wordnet to /root/nltk_data...\n",
            "[nltk_data]   Package wordnet is already up-to-date!\n",
            "[nltk_data] Downloading package punkt to /root/nltk_data...\n",
            "[nltk_data]   Package punkt is already up-to-date!\n",
            "[nltk_data] Downloading package stopwords to /root/nltk_data...\n",
            "[nltk_data]   Package stopwords is already up-to-date!\n"
          ]
        }
      ]
    },
    {
      "cell_type": "code",
      "source": [
        "import numpy as np\n",
        "import pandas as pd\n",
        "\n",
        "df = pd.read_csv('/content/cyberbullying_tweets.csv')\n",
        "df['cyberbullying_type'].value_counts()"
      ],
      "metadata": {
        "id": "4DO9fb9TTOWs",
        "outputId": "d6749b53-f86a-46c1-a779-40ea9abc7522",
        "execution": {
          "iopub.status.busy": "2022-07-16T13:38:55.938136Z",
          "iopub.execute_input": "2022-07-16T13:38:55.938507Z",
          "iopub.status.idle": "2022-07-16T13:38:56.101055Z",
          "shell.execute_reply.started": "2022-07-16T13:38:55.938476Z",
          "shell.execute_reply": "2022-07-16T13:38:56.100147Z"
        },
        "trusted": true,
        "colab": {
          "base_uri": "https://localhost:8080/"
        }
      },
      "execution_count": 3,
      "outputs": [
        {
          "output_type": "execute_result",
          "data": {
            "text/plain": [
              "religion               7998\n",
              "age                    7992\n",
              "gender                 7973\n",
              "ethnicity              7961\n",
              "not_cyberbullying      7945\n",
              "other_cyberbullying    7823\n",
              "Name: cyberbullying_type, dtype: int64"
            ]
          },
          "metadata": {},
          "execution_count": 3
        }
      ]
    },
    {
      "cell_type": "code",
      "source": [
        "df.head"
      ],
      "metadata": {
        "colab": {
          "base_uri": "https://localhost:8080/"
        },
        "id": "t_7HbBcDoia1",
        "outputId": "caa4fd84-d12f-46e8-ac8f-a24b1d1a90a8"
      },
      "execution_count": 40,
      "outputs": [
        {
          "output_type": "execute_result",
          "data": {
            "text/plain": [
              "<bound method NDFrame.head of                                                     text  sentiment  \\\n",
              "0      In other words #katandandre, your food was cra...          4   \n",
              "1      Why is #aussietv so white? #MKR #theblock #ImA...          4   \n",
              "2      @XochitlSuckkks a classy whore? Or more red ve...          4   \n",
              "3      @Jason_Gio meh. :P  thanks for the heads up, b...          4   \n",
              "4      @RudhoeEnglish This is an ISIS account pretend...          4   \n",
              "...                                                  ...        ...   \n",
              "47687  Black ppl aren't expected to do anything, depe...          3   \n",
              "47688  Turner did not withhold his disappointment. Tu...          3   \n",
              "47689  I swear to God. This dumb nigger bitch. I have...          3   \n",
              "47690  Yea fuck you RT @therealexel: IF YOURE A NIGGE...          3   \n",
              "47691  Bro. U gotta chill RT @CHILLShrammy: Dog FUCK ...          3   \n",
              "\n",
              "                                              text_clean  text_len  \n",
              "0                     word katandandr food crapilici mkr         5  \n",
              "1      aussietv white mkr theblock today sunris studi...        10  \n",
              "2                         classi whore red velvet cupcak         5  \n",
              "3      meh p thank head concern anoth angri dude twitter         9  \n",
              "4      isi account pretend kurdish account like islam...         8  \n",
              "...                                                  ...       ...  \n",
              "47687  black ppl expect anyth depend anyth yet free p...        21  \n",
              "47688  turner withhold turner call court abomin concl...        28  \n",
              "47689  swear god dumb nigger bitch got bleach hair re...        13  \n",
              "47690  yea fuck rt your nigger fuck unfollow fuck dum...        10  \n",
              "47691  bro u got ta chill rt dog fuck kp dumb nigger ...        13  \n",
              "\n",
              "[37114 rows x 4 columns]>"
            ]
          },
          "metadata": {},
          "execution_count": 40
        }
      ]
    },
    {
      "cell_type": "markdown",
      "source": [
        "**There is not much imbalance between different cyberbulling type. other_cyberbulling will be removed since it may cause a confusion for the models with other cyberbullying class.**"
      ],
      "metadata": {
        "id": "-G0bAFMCURf7"
      }
    },
    {
      "cell_type": "code",
      "source": [
        "df.drop(df[df['cyberbullying_type'] == 'other_cyberbullying'].index, inplace = True)\n",
        "df['cyberbullying_type'].value_counts()"
      ],
      "metadata": {
        "id": "S_psmeUqUpbk",
        "outputId": "5b59e886-2091-4d56-ff1a-c08e9077862e",
        "execution": {
          "iopub.status.busy": "2022-07-16T13:38:56.102586Z",
          "iopub.execute_input": "2022-07-16T13:38:56.102885Z",
          "iopub.status.idle": "2022-07-16T13:38:56.135081Z",
          "shell.execute_reply.started": "2022-07-16T13:38:56.102858Z",
          "shell.execute_reply": "2022-07-16T13:38:56.134138Z"
        },
        "trusted": true,
        "colab": {
          "base_uri": "https://localhost:8080/"
        }
      },
      "execution_count": 4,
      "outputs": [
        {
          "output_type": "execute_result",
          "data": {
            "text/plain": [
              "religion             7998\n",
              "age                  7992\n",
              "gender               7973\n",
              "ethnicity            7961\n",
              "not_cyberbullying    7945\n",
              "Name: cyberbullying_type, dtype: int64"
            ]
          },
          "metadata": {},
          "execution_count": 4
        }
      ]
    },
    {
      "cell_type": "markdown",
      "source": [
        "# Dataset Preprocessing"
      ],
      "metadata": {
        "id": "S3-3PPX0aZEk"
      }
    },
    {
      "cell_type": "code",
      "source": [
        "# Renaming Categories\n",
        "df = df.rename(columns={'tweet_text': 'text', 'cyberbullying_type': 'sentiment'})"
      ],
      "metadata": {
        "id": "tojl2kQnXxK0",
        "execution": {
          "iopub.status.busy": "2022-07-16T13:38:56.136508Z",
          "iopub.execute_input": "2022-07-16T13:38:56.137298Z",
          "iopub.status.idle": "2022-07-16T13:38:56.144787Z",
          "shell.execute_reply.started": "2022-07-16T13:38:56.13725Z",
          "shell.execute_reply": "2022-07-16T13:38:56.143978Z"
        },
        "trusted": true
      },
      "execution_count": 5,
      "outputs": []
    },
    {
      "cell_type": "code",
      "source": [
        "# Checking 10 samples\n",
        "df.sample(10)"
      ],
      "metadata": {
        "id": "fGbS2E1LX28z",
        "outputId": "a86d3c88-81e7-4633-d1f8-08f9f61c7884",
        "execution": {
          "iopub.status.busy": "2022-07-16T13:38:56.146377Z",
          "iopub.execute_input": "2022-07-16T13:38:56.14731Z",
          "iopub.status.idle": "2022-07-16T13:38:56.167347Z",
          "shell.execute_reply.started": "2022-07-16T13:38:56.14726Z",
          "shell.execute_reply": "2022-07-16T13:38:56.166018Z"
        },
        "trusted": true,
        "colab": {
          "base_uri": "https://localhost:8080/",
          "height": 363
        }
      },
      "execution_count": 6,
      "outputs": [
        {
          "output_type": "execute_result",
          "data": {
            "text/plain": [
              "                                                    text          sentiment\n",
              "45506  Your right on the first point, I’ll apologise ...          ethnicity\n",
              "39139  Rebecca black was bullied too much and is now ...                age\n",
              "35400  You know I ain’t lying... Columbia High School...                age\n",
              "11581  Idk if it was the gay jokes or the Cosby rape ...             gender\n",
              "18961  @cdnKhadija @johnnygjokaj @rfrankh53 @98Halima...           religion\n",
              "41567   these hoes like niggas that spend money not t...          ethnicity\n",
              "17580  Ask about this to every Muslim you meet tomorr...           religion\n",
              "12542  The same people who say rape joke aren't funny...             gender\n",
              "6489    #Rejectedkidsbooks The idiot's guide to bullying  not_cyberbullying\n",
              "32632  I think Biden should refuse to debate trump. W...                age"
            ],
            "text/html": [
              "\n",
              "  <div id=\"df-6e20f49a-af42-4883-9966-53934595697d\">\n",
              "    <div class=\"colab-df-container\">\n",
              "      <div>\n",
              "<style scoped>\n",
              "    .dataframe tbody tr th:only-of-type {\n",
              "        vertical-align: middle;\n",
              "    }\n",
              "\n",
              "    .dataframe tbody tr th {\n",
              "        vertical-align: top;\n",
              "    }\n",
              "\n",
              "    .dataframe thead th {\n",
              "        text-align: right;\n",
              "    }\n",
              "</style>\n",
              "<table border=\"1\" class=\"dataframe\">\n",
              "  <thead>\n",
              "    <tr style=\"text-align: right;\">\n",
              "      <th></th>\n",
              "      <th>text</th>\n",
              "      <th>sentiment</th>\n",
              "    </tr>\n",
              "  </thead>\n",
              "  <tbody>\n",
              "    <tr>\n",
              "      <th>45506</th>\n",
              "      <td>Your right on the first point, I’ll apologise ...</td>\n",
              "      <td>ethnicity</td>\n",
              "    </tr>\n",
              "    <tr>\n",
              "      <th>39139</th>\n",
              "      <td>Rebecca black was bullied too much and is now ...</td>\n",
              "      <td>age</td>\n",
              "    </tr>\n",
              "    <tr>\n",
              "      <th>35400</th>\n",
              "      <td>You know I ain’t lying... Columbia High School...</td>\n",
              "      <td>age</td>\n",
              "    </tr>\n",
              "    <tr>\n",
              "      <th>11581</th>\n",
              "      <td>Idk if it was the gay jokes or the Cosby rape ...</td>\n",
              "      <td>gender</td>\n",
              "    </tr>\n",
              "    <tr>\n",
              "      <th>18961</th>\n",
              "      <td>@cdnKhadija @johnnygjokaj @rfrankh53 @98Halima...</td>\n",
              "      <td>religion</td>\n",
              "    </tr>\n",
              "    <tr>\n",
              "      <th>41567</th>\n",
              "      <td>these hoes like niggas that spend money not t...</td>\n",
              "      <td>ethnicity</td>\n",
              "    </tr>\n",
              "    <tr>\n",
              "      <th>17580</th>\n",
              "      <td>Ask about this to every Muslim you meet tomorr...</td>\n",
              "      <td>religion</td>\n",
              "    </tr>\n",
              "    <tr>\n",
              "      <th>12542</th>\n",
              "      <td>The same people who say rape joke aren't funny...</td>\n",
              "      <td>gender</td>\n",
              "    </tr>\n",
              "    <tr>\n",
              "      <th>6489</th>\n",
              "      <td>#Rejectedkidsbooks The idiot's guide to bullying</td>\n",
              "      <td>not_cyberbullying</td>\n",
              "    </tr>\n",
              "    <tr>\n",
              "      <th>32632</th>\n",
              "      <td>I think Biden should refuse to debate trump. W...</td>\n",
              "      <td>age</td>\n",
              "    </tr>\n",
              "  </tbody>\n",
              "</table>\n",
              "</div>\n",
              "      <button class=\"colab-df-convert\" onclick=\"convertToInteractive('df-6e20f49a-af42-4883-9966-53934595697d')\"\n",
              "              title=\"Convert this dataframe to an interactive table.\"\n",
              "              style=\"display:none;\">\n",
              "        \n",
              "  <svg xmlns=\"http://www.w3.org/2000/svg\" height=\"24px\"viewBox=\"0 0 24 24\"\n",
              "       width=\"24px\">\n",
              "    <path d=\"M0 0h24v24H0V0z\" fill=\"none\"/>\n",
              "    <path d=\"M18.56 5.44l.94 2.06.94-2.06 2.06-.94-2.06-.94-.94-2.06-.94 2.06-2.06.94zm-11 1L8.5 8.5l.94-2.06 2.06-.94-2.06-.94L8.5 2.5l-.94 2.06-2.06.94zm10 10l.94 2.06.94-2.06 2.06-.94-2.06-.94-.94-2.06-.94 2.06-2.06.94z\"/><path d=\"M17.41 7.96l-1.37-1.37c-.4-.4-.92-.59-1.43-.59-.52 0-1.04.2-1.43.59L10.3 9.45l-7.72 7.72c-.78.78-.78 2.05 0 2.83L4 21.41c.39.39.9.59 1.41.59.51 0 1.02-.2 1.41-.59l7.78-7.78 2.81-2.81c.8-.78.8-2.07 0-2.86zM5.41 20L4 18.59l7.72-7.72 1.47 1.35L5.41 20z\"/>\n",
              "  </svg>\n",
              "      </button>\n",
              "      \n",
              "  <style>\n",
              "    .colab-df-container {\n",
              "      display:flex;\n",
              "      flex-wrap:wrap;\n",
              "      gap: 12px;\n",
              "    }\n",
              "\n",
              "    .colab-df-convert {\n",
              "      background-color: #E8F0FE;\n",
              "      border: none;\n",
              "      border-radius: 50%;\n",
              "      cursor: pointer;\n",
              "      display: none;\n",
              "      fill: #1967D2;\n",
              "      height: 32px;\n",
              "      padding: 0 0 0 0;\n",
              "      width: 32px;\n",
              "    }\n",
              "\n",
              "    .colab-df-convert:hover {\n",
              "      background-color: #E2EBFA;\n",
              "      box-shadow: 0px 1px 2px rgba(60, 64, 67, 0.3), 0px 1px 3px 1px rgba(60, 64, 67, 0.15);\n",
              "      fill: #174EA6;\n",
              "    }\n",
              "\n",
              "    [theme=dark] .colab-df-convert {\n",
              "      background-color: #3B4455;\n",
              "      fill: #D2E3FC;\n",
              "    }\n",
              "\n",
              "    [theme=dark] .colab-df-convert:hover {\n",
              "      background-color: #434B5C;\n",
              "      box-shadow: 0px 1px 3px 1px rgba(0, 0, 0, 0.15);\n",
              "      filter: drop-shadow(0px 1px 2px rgba(0, 0, 0, 0.3));\n",
              "      fill: #FFFFFF;\n",
              "    }\n",
              "  </style>\n",
              "\n",
              "      <script>\n",
              "        const buttonEl =\n",
              "          document.querySelector('#df-6e20f49a-af42-4883-9966-53934595697d button.colab-df-convert');\n",
              "        buttonEl.style.display =\n",
              "          google.colab.kernel.accessAllowed ? 'block' : 'none';\n",
              "\n",
              "        async function convertToInteractive(key) {\n",
              "          const element = document.querySelector('#df-6e20f49a-af42-4883-9966-53934595697d');\n",
              "          const dataTable =\n",
              "            await google.colab.kernel.invokeFunction('convertToInteractive',\n",
              "                                                     [key], {});\n",
              "          if (!dataTable) return;\n",
              "\n",
              "          const docLinkHtml = 'Like what you see? Visit the ' +\n",
              "            '<a target=\"_blank\" href=https://colab.research.google.com/notebooks/data_table.ipynb>data table notebook</a>'\n",
              "            + ' to learn more about interactive tables.';\n",
              "          element.innerHTML = '';\n",
              "          dataTable['output_type'] = 'display_data';\n",
              "          await google.colab.output.renderOutput(dataTable, element);\n",
              "          const docLink = document.createElement('div');\n",
              "          docLink.innerHTML = docLinkHtml;\n",
              "          element.appendChild(docLink);\n",
              "        }\n",
              "      </script>\n",
              "    </div>\n",
              "  </div>\n",
              "  "
            ]
          },
          "metadata": {},
          "execution_count": 6
        }
      ]
    },
    {
      "cell_type": "markdown",
      "source": [
        "**Converting categories into numbers**"
      ],
      "metadata": {
        "id": "5njNdGXMVPgD"
      }
    },
    {
      "cell_type": "code",
      "source": [
        "df[\"sentiment\"].replace({\"religion\": 1, \"age\": 2, \"gender\": 3, \"ethnicity\": 4, \"not_cyberbullying\": 5}, inplace=True)"
      ],
      "metadata": {
        "id": "SyfeXFztVTsD",
        "execution": {
          "iopub.status.busy": "2022-07-16T13:38:56.169087Z",
          "iopub.execute_input": "2022-07-16T13:38:56.169433Z",
          "iopub.status.idle": "2022-07-16T13:38:56.209347Z",
          "shell.execute_reply.started": "2022-07-16T13:38:56.169402Z",
          "shell.execute_reply": "2022-07-16T13:38:56.208219Z"
        },
        "trusted": true
      },
      "execution_count": 7,
      "outputs": []
    },
    {
      "cell_type": "code",
      "source": [
        "sentiments = [\"religion\",\"age\",\"gender\",\"ethnicity\",\"not_cyberbullying\"]"
      ],
      "metadata": {
        "id": "8zyfd5xP4AQN",
        "execution": {
          "iopub.status.busy": "2022-07-16T13:38:56.213433Z",
          "iopub.execute_input": "2022-07-16T13:38:56.213787Z",
          "iopub.status.idle": "2022-07-16T13:38:56.218499Z",
          "shell.execute_reply.started": "2022-07-16T13:38:56.213755Z",
          "shell.execute_reply": "2022-07-16T13:38:56.217257Z"
        },
        "trusted": true
      },
      "execution_count": 10,
      "outputs": []
    },
    {
      "cell_type": "markdown",
      "source": [
        "**Preprocessing: Tokenize sentences, Change to lower case, Correct spelling, Remove numbers, Remove punctuation, Remove stopwords, Normalize (Lemmatize or Lemmatization)**"
      ],
      "metadata": {
        "id": "DxX5_fj9bupj"
      }
    },
    {
      "cell_type": "code",
      "source": [
        "!pip install emoji"
      ],
      "metadata": {
        "id": "0CngsO6Qb-ab",
        "outputId": "40e714a2-2ec0-4e3b-bd21-74155dd36b57",
        "execution": {
          "iopub.status.busy": "2022-07-16T13:38:56.220263Z",
          "iopub.execute_input": "2022-07-16T13:38:56.220625Z",
          "iopub.status.idle": "2022-07-16T13:39:07.415499Z",
          "shell.execute_reply.started": "2022-07-16T13:38:56.220596Z",
          "shell.execute_reply": "2022-07-16T13:39:07.414176Z"
        },
        "trusted": true,
        "colab": {
          "base_uri": "https://localhost:8080/"
        }
      },
      "execution_count": 11,
      "outputs": [
        {
          "output_type": "stream",
          "name": "stdout",
          "text": [
            "Looking in indexes: https://pypi.org/simple, https://us-python.pkg.dev/colab-wheels/public/simple/\n",
            "Requirement already satisfied: emoji in /usr/local/lib/python3.8/dist-packages (2.2.0)\n"
          ]
        }
      ]
    },
    {
      "cell_type": "markdown",
      "source": [
        "**Predefined functions for text cleaning**"
      ],
      "metadata": {
        "id": "zcTUJcIfdqaV"
      }
    },
    {
      "cell_type": "code",
      "source": [
        "#@title\n",
        "\n",
        "#Text cleaning\n",
        "import re, string\n",
        "import emoji\n",
        "import nltk\n",
        "from nltk.stem import WordNetLemmatizer,PorterStemmer\n",
        "from nltk.corpus import stopwords\n",
        "stop_words = set(stopwords.words('english'))\n",
        "\n",
        "#Remove punctuations, links, stopwords, mentions and \\r\\n new line characters\n",
        "def strip_all_entities(text): \n",
        "    text = text.replace('\\r', '').replace('\\n', ' ').lower() #remove \\n and \\r and lowercase\n",
        "    text = re.sub(r\"(?:\\@|https?\\://)\\S+\", \"\", text) #remove links and mentions\n",
        "    text = re.sub(r'[^\\x00-\\x7f]',r'', text) #remove non utf8/ascii characters such as '\\x9a\\x91\\x97\\x9a\\x97'\n",
        "    banned_list= string.punctuation\n",
        "    table = str.maketrans('', '', banned_list)\n",
        "    text = text.translate(table)\n",
        "    text = [word for word in text.split() if word not in stop_words]\n",
        "    text = ' '.join(text)\n",
        "    text =' '.join(word for word in text.split() if len(word) < 14) # remove words longer than 14 characters\n",
        "    return text\n",
        "\n",
        "#remove contractions\n",
        "def decontract(text):\n",
        "    text = re.sub(r\"can\\'t\", \"can not\", text)\n",
        "    text = re.sub(r\"n\\'t\", \" not\", text)\n",
        "    text = re.sub(r\"\\'re\", \" are\", text)\n",
        "    text = re.sub(r\"\\'s\", \" is\", text)\n",
        "    text = re.sub(r\"\\'d\", \" would\", text)\n",
        "    text = re.sub(r\"\\'ll\", \" will\", text)\n",
        "    text = re.sub(r\"\\'t\", \" not\", text)\n",
        "    text = re.sub(r\"\\'ve\", \" have\", text)\n",
        "    text = re.sub(r\"\\'m\", \" am\", text)\n",
        "    return text\n",
        "\n",
        "#clean hashtags at the end of the sentence, and keep those in the middle of the sentence by removing just the \"#\" symbol\n",
        "def clean_hashtags(tweet):\n",
        "    new_tweet = \" \".join(word.strip() for word in re.split('#(?!(?:hashtag)\\b)[\\w-]+(?=(?:\\s+#[\\w-]+)*\\s*$)', tweet)) #remove last hashtags\n",
        "    new_tweet2 = \" \".join(word.strip() for word in re.split('#|_', new_tweet)) #remove hashtags symbol from words in the middle of the sentence\n",
        "    return new_tweet2\n",
        "\n",
        "#Filter special characters such as \"&\" and \"$\" present in some words\n",
        "def filter_chars(a):\n",
        "    sent = []\n",
        "    for word in a.split(' '):\n",
        "        if ('$' in word) | ('&' in word):\n",
        "            sent.append('')\n",
        "        else:\n",
        "            sent.append(word)\n",
        "    return ' '.join(sent)\n",
        "\n",
        "#Remove multiple sequential spaces\n",
        "def remove_mult_spaces(text):\n",
        "    return re.sub(\"\\s\\s+\" , \" \", text)\n",
        "\n",
        "#Stemming\n",
        "def stemmer(text):\n",
        "    tokenized = nltk.word_tokenize(text)\n",
        "    ps = PorterStemmer()\n",
        "    return ' '.join([ps.stem(words) for words in tokenized])\n",
        "\n",
        "#Lemmatization \n",
        "def lemmatize(text):\n",
        "    tokenized = nltk.word_tokenize(text)\n",
        "    lm = WordNetLemmatizer()\n",
        "    return ' '.join([lm.lemmatize(words) for words in tokenized])\n",
        "\n",
        "#Then we apply all the defined functions in the following order\n",
        "def preprocess(text):\n",
        "    text = decontract(text)\n",
        "    text = strip_all_entities(text)\n",
        "    text = clean_hashtags(text)\n",
        "    text = filter_chars(text)\n",
        "    text = remove_mult_spaces(text)\n",
        "    text = stemmer(text)\n",
        "    return text"
      ],
      "metadata": {
        "id": "OljVKREVaH2s",
        "_kg_hide-input": true,
        "execution": {
          "iopub.status.busy": "2022-07-16T13:39:07.417589Z",
          "iopub.execute_input": "2022-07-16T13:39:07.41795Z",
          "iopub.status.idle": "2022-07-16T13:39:07.441851Z",
          "shell.execute_reply.started": "2022-07-16T13:39:07.417915Z",
          "shell.execute_reply": "2022-07-16T13:39:07.440601Z"
        },
        "trusted": true
      },
      "execution_count": 12,
      "outputs": []
    },
    {
      "cell_type": "code",
      "source": [
        "texts_cleaned = []\n",
        "for t in df.text:\n",
        "    texts_cleaned.append(preprocess(t))"
      ],
      "metadata": {
        "id": "tvw-8MR-cRVE",
        "execution": {
          "iopub.status.busy": "2022-07-16T13:39:07.443499Z",
          "iopub.execute_input": "2022-07-16T13:39:07.443983Z",
          "iopub.status.idle": "2022-07-16T13:40:19.842521Z",
          "shell.execute_reply.started": "2022-07-16T13:39:07.443926Z",
          "shell.execute_reply": "2022-07-16T13:40:19.841226Z"
        },
        "trusted": true
      },
      "execution_count": 13,
      "outputs": []
    },
    {
      "cell_type": "code",
      "source": [
        "df['text_clean'] = texts_cleaned"
      ],
      "metadata": {
        "id": "g9rI8VhccisU",
        "execution": {
          "iopub.status.busy": "2022-07-16T13:40:19.844817Z",
          "iopub.execute_input": "2022-07-16T13:40:19.845767Z",
          "iopub.status.idle": "2022-07-16T13:40:19.858392Z",
          "shell.execute_reply.started": "2022-07-16T13:40:19.845713Z",
          "shell.execute_reply": "2022-07-16T13:40:19.857188Z"
        },
        "trusted": true
      },
      "execution_count": 14,
      "outputs": []
    },
    {
      "cell_type": "markdown",
      "source": [
        "**Clean text**"
      ],
      "metadata": {
        "id": "Ajn82UkkdVRL"
      }
    },
    {
      "cell_type": "code",
      "source": [
        "df.head()"
      ],
      "metadata": {
        "id": "txwfQrCodSlk",
        "outputId": "42610fe9-8b57-4f4f-a721-645a5a51b50d",
        "execution": {
          "iopub.status.busy": "2022-07-16T13:40:19.860169Z",
          "iopub.execute_input": "2022-07-16T13:40:19.860677Z",
          "iopub.status.idle": "2022-07-16T13:40:19.87343Z",
          "shell.execute_reply.started": "2022-07-16T13:40:19.860629Z",
          "shell.execute_reply": "2022-07-16T13:40:19.872571Z"
        },
        "trusted": true,
        "colab": {
          "base_uri": "https://localhost:8080/",
          "height": 206
        }
      },
      "execution_count": 15,
      "outputs": [
        {
          "output_type": "execute_result",
          "data": {
            "text/plain": [
              "                                                text  sentiment  \\\n",
              "0  In other words #katandandre, your food was cra...          5   \n",
              "1  Why is #aussietv so white? #MKR #theblock #ImA...          5   \n",
              "2  @XochitlSuckkks a classy whore? Or more red ve...          5   \n",
              "3  @Jason_Gio meh. :P  thanks for the heads up, b...          5   \n",
              "4  @RudhoeEnglish This is an ISIS account pretend...          5   \n",
              "\n",
              "                                          text_clean  \n",
              "0                 word katandandr food crapilici mkr  \n",
              "1  aussietv white mkr theblock today sunris studi...  \n",
              "2                     classi whore red velvet cupcak  \n",
              "3  meh p thank head concern anoth angri dude twitter  \n",
              "4  isi account pretend kurdish account like islam...  "
            ],
            "text/html": [
              "\n",
              "  <div id=\"df-e901c64f-4ef8-45a6-8ae4-67e659421503\">\n",
              "    <div class=\"colab-df-container\">\n",
              "      <div>\n",
              "<style scoped>\n",
              "    .dataframe tbody tr th:only-of-type {\n",
              "        vertical-align: middle;\n",
              "    }\n",
              "\n",
              "    .dataframe tbody tr th {\n",
              "        vertical-align: top;\n",
              "    }\n",
              "\n",
              "    .dataframe thead th {\n",
              "        text-align: right;\n",
              "    }\n",
              "</style>\n",
              "<table border=\"1\" class=\"dataframe\">\n",
              "  <thead>\n",
              "    <tr style=\"text-align: right;\">\n",
              "      <th></th>\n",
              "      <th>text</th>\n",
              "      <th>sentiment</th>\n",
              "      <th>text_clean</th>\n",
              "    </tr>\n",
              "  </thead>\n",
              "  <tbody>\n",
              "    <tr>\n",
              "      <th>0</th>\n",
              "      <td>In other words #katandandre, your food was cra...</td>\n",
              "      <td>5</td>\n",
              "      <td>word katandandr food crapilici mkr</td>\n",
              "    </tr>\n",
              "    <tr>\n",
              "      <th>1</th>\n",
              "      <td>Why is #aussietv so white? #MKR #theblock #ImA...</td>\n",
              "      <td>5</td>\n",
              "      <td>aussietv white mkr theblock today sunris studi...</td>\n",
              "    </tr>\n",
              "    <tr>\n",
              "      <th>2</th>\n",
              "      <td>@XochitlSuckkks a classy whore? Or more red ve...</td>\n",
              "      <td>5</td>\n",
              "      <td>classi whore red velvet cupcak</td>\n",
              "    </tr>\n",
              "    <tr>\n",
              "      <th>3</th>\n",
              "      <td>@Jason_Gio meh. :P  thanks for the heads up, b...</td>\n",
              "      <td>5</td>\n",
              "      <td>meh p thank head concern anoth angri dude twitter</td>\n",
              "    </tr>\n",
              "    <tr>\n",
              "      <th>4</th>\n",
              "      <td>@RudhoeEnglish This is an ISIS account pretend...</td>\n",
              "      <td>5</td>\n",
              "      <td>isi account pretend kurdish account like islam...</td>\n",
              "    </tr>\n",
              "  </tbody>\n",
              "</table>\n",
              "</div>\n",
              "      <button class=\"colab-df-convert\" onclick=\"convertToInteractive('df-e901c64f-4ef8-45a6-8ae4-67e659421503')\"\n",
              "              title=\"Convert this dataframe to an interactive table.\"\n",
              "              style=\"display:none;\">\n",
              "        \n",
              "  <svg xmlns=\"http://www.w3.org/2000/svg\" height=\"24px\"viewBox=\"0 0 24 24\"\n",
              "       width=\"24px\">\n",
              "    <path d=\"M0 0h24v24H0V0z\" fill=\"none\"/>\n",
              "    <path d=\"M18.56 5.44l.94 2.06.94-2.06 2.06-.94-2.06-.94-.94-2.06-.94 2.06-2.06.94zm-11 1L8.5 8.5l.94-2.06 2.06-.94-2.06-.94L8.5 2.5l-.94 2.06-2.06.94zm10 10l.94 2.06.94-2.06 2.06-.94-2.06-.94-.94-2.06-.94 2.06-2.06.94z\"/><path d=\"M17.41 7.96l-1.37-1.37c-.4-.4-.92-.59-1.43-.59-.52 0-1.04.2-1.43.59L10.3 9.45l-7.72 7.72c-.78.78-.78 2.05 0 2.83L4 21.41c.39.39.9.59 1.41.59.51 0 1.02-.2 1.41-.59l7.78-7.78 2.81-2.81c.8-.78.8-2.07 0-2.86zM5.41 20L4 18.59l7.72-7.72 1.47 1.35L5.41 20z\"/>\n",
              "  </svg>\n",
              "      </button>\n",
              "      \n",
              "  <style>\n",
              "    .colab-df-container {\n",
              "      display:flex;\n",
              "      flex-wrap:wrap;\n",
              "      gap: 12px;\n",
              "    }\n",
              "\n",
              "    .colab-df-convert {\n",
              "      background-color: #E8F0FE;\n",
              "      border: none;\n",
              "      border-radius: 50%;\n",
              "      cursor: pointer;\n",
              "      display: none;\n",
              "      fill: #1967D2;\n",
              "      height: 32px;\n",
              "      padding: 0 0 0 0;\n",
              "      width: 32px;\n",
              "    }\n",
              "\n",
              "    .colab-df-convert:hover {\n",
              "      background-color: #E2EBFA;\n",
              "      box-shadow: 0px 1px 2px rgba(60, 64, 67, 0.3), 0px 1px 3px 1px rgba(60, 64, 67, 0.15);\n",
              "      fill: #174EA6;\n",
              "    }\n",
              "\n",
              "    [theme=dark] .colab-df-convert {\n",
              "      background-color: #3B4455;\n",
              "      fill: #D2E3FC;\n",
              "    }\n",
              "\n",
              "    [theme=dark] .colab-df-convert:hover {\n",
              "      background-color: #434B5C;\n",
              "      box-shadow: 0px 1px 3px 1px rgba(0, 0, 0, 0.15);\n",
              "      filter: drop-shadow(0px 1px 2px rgba(0, 0, 0, 0.3));\n",
              "      fill: #FFFFFF;\n",
              "    }\n",
              "  </style>\n",
              "\n",
              "      <script>\n",
              "        const buttonEl =\n",
              "          document.querySelector('#df-e901c64f-4ef8-45a6-8ae4-67e659421503 button.colab-df-convert');\n",
              "        buttonEl.style.display =\n",
              "          google.colab.kernel.accessAllowed ? 'block' : 'none';\n",
              "\n",
              "        async function convertToInteractive(key) {\n",
              "          const element = document.querySelector('#df-e901c64f-4ef8-45a6-8ae4-67e659421503');\n",
              "          const dataTable =\n",
              "            await google.colab.kernel.invokeFunction('convertToInteractive',\n",
              "                                                     [key], {});\n",
              "          if (!dataTable) return;\n",
              "\n",
              "          const docLinkHtml = 'Like what you see? Visit the ' +\n",
              "            '<a target=\"_blank\" href=https://colab.research.google.com/notebooks/data_table.ipynb>data table notebook</a>'\n",
              "            + ' to learn more about interactive tables.';\n",
              "          element.innerHTML = '';\n",
              "          dataTable['output_type'] = 'display_data';\n",
              "          await google.colab.output.renderOutput(dataTable, element);\n",
              "          const docLink = document.createElement('div');\n",
              "          docLink.innerHTML = docLinkHtml;\n",
              "          element.appendChild(docLink);\n",
              "        }\n",
              "      </script>\n",
              "    </div>\n",
              "  </div>\n",
              "  "
            ]
          },
          "metadata": {},
          "execution_count": 15
        }
      ]
    },
    {
      "cell_type": "markdown",
      "source": [
        "**Checking tweet duplicates**"
      ],
      "metadata": {
        "id": "fo8FNC9yd0EE"
      }
    },
    {
      "cell_type": "code",
      "source": [
        "df[\"text_clean\"].duplicated().sum()"
      ],
      "metadata": {
        "id": "CcLOwmpFd3mz",
        "outputId": "f661266d-c080-4c2b-8310-39a46585c3c6",
        "execution": {
          "iopub.status.busy": "2022-07-16T13:40:19.874658Z",
          "iopub.execute_input": "2022-07-16T13:40:19.875568Z",
          "iopub.status.idle": "2022-07-16T13:40:19.895644Z",
          "shell.execute_reply.started": "2022-07-16T13:40:19.875531Z",
          "shell.execute_reply": "2022-07-16T13:40:19.894752Z"
        },
        "trusted": true,
        "colab": {
          "base_uri": "https://localhost:8080/"
        }
      },
      "execution_count": 16,
      "outputs": [
        {
          "output_type": "execute_result",
          "data": {
            "text/plain": [
              "1049"
            ]
          },
          "metadata": {},
          "execution_count": 16
        }
      ]
    },
    {
      "cell_type": "markdown",
      "source": [
        "**There are around 1000 duplicates. We will remove them at the next cell.**"
      ],
      "metadata": {
        "id": "3986DEWCeD5c"
      }
    },
    {
      "cell_type": "code",
      "source": [
        "df.drop_duplicates(\"text_clean\", inplace=True)"
      ],
      "metadata": {
        "id": "tgIT_8vPd_Ik",
        "execution": {
          "iopub.status.busy": "2022-07-16T13:40:19.89691Z",
          "iopub.execute_input": "2022-07-16T13:40:19.897661Z",
          "iopub.status.idle": "2022-07-16T13:40:19.931349Z",
          "shell.execute_reply.started": "2022-07-16T13:40:19.897621Z",
          "shell.execute_reply": "2022-07-16T13:40:19.92974Z"
        },
        "trusted": true
      },
      "execution_count": 17,
      "outputs": []
    },
    {
      "cell_type": "code",
      "source": [
        "df.sentiment.value_counts()"
      ],
      "metadata": {
        "id": "b_iqxjcweCQ0",
        "outputId": "fdd47d0d-3703-4fd3-938a-3bd5405b3bdc",
        "execution": {
          "iopub.status.busy": "2022-07-16T13:40:19.935258Z",
          "iopub.execute_input": "2022-07-16T13:40:19.936051Z",
          "iopub.status.idle": "2022-07-16T13:40:19.945423Z",
          "shell.execute_reply.started": "2022-07-16T13:40:19.935996Z",
          "shell.execute_reply": "2022-07-16T13:40:19.944424Z"
        },
        "trusted": true,
        "colab": {
          "base_uri": "https://localhost:8080/"
        }
      },
      "execution_count": 18,
      "outputs": [
        {
          "output_type": "execute_result",
          "data": {
            "text/plain": [
              "1    7946\n",
              "2    7884\n",
              "4    7746\n",
              "5    7637\n",
              "3    7607\n",
              "Name: sentiment, dtype: int64"
            ]
          },
          "metadata": {},
          "execution_count": 18
        }
      ]
    },
    {
      "cell_type": "markdown",
      "source": [
        "**After removing duplicates, the value counts per sentiment is shown above. </br>\n",
        "There is only a few difference (350) on the sentiment with most text and the sentiment with least text so there is no major imbalance on the data.**"
      ],
      "metadata": {
        "id": "1oORMG_5eQRt"
      }
    },
    {
      "cell_type": "markdown",
      "source": [
        "# Checking tweet length"
      ],
      "metadata": {
        "id": "rLMABJLVf2Ie"
      }
    },
    {
      "cell_type": "code",
      "source": [
        "text_len = []\n",
        "for text in df.text_clean:\n",
        "    tweet_len = len(text.split())\n",
        "    text_len.append(tweet_len)"
      ],
      "metadata": {
        "id": "AAN0WoTxf8js",
        "execution": {
          "iopub.status.busy": "2022-07-16T13:40:19.946835Z",
          "iopub.execute_input": "2022-07-16T13:40:19.947164Z",
          "iopub.status.idle": "2022-07-16T13:40:20.005699Z",
          "shell.execute_reply.started": "2022-07-16T13:40:19.947136Z",
          "shell.execute_reply": "2022-07-16T13:40:20.004373Z"
        },
        "trusted": true
      },
      "execution_count": 19,
      "outputs": []
    },
    {
      "cell_type": "code",
      "source": [
        "df['text_len'] = text_len"
      ],
      "metadata": {
        "id": "5ECl9zChgA6a",
        "execution": {
          "iopub.status.busy": "2022-07-16T13:40:20.007148Z",
          "iopub.execute_input": "2022-07-16T13:40:20.007518Z",
          "iopub.status.idle": "2022-07-16T13:40:20.029761Z",
          "shell.execute_reply.started": "2022-07-16T13:40:20.007484Z",
          "shell.execute_reply": "2022-07-16T13:40:20.028899Z"
        },
        "trusted": true
      },
      "execution_count": 20,
      "outputs": []
    },
    {
      "cell_type": "code",
      "source": [
        "plt.figure(figsize=(7,5))\n",
        "ax = sns.countplot(x='text_len', data=df[df['text_len']<10], palette='mako')\n",
        "plt.title('Count of tweets with less than 10 words', fontsize=20)\n",
        "plt.yticks([])\n",
        "ax.bar_label(ax.containers[0])\n",
        "plt.ylabel('count')\n",
        "plt.xlabel('')\n",
        "plt.show()"
      ],
      "metadata": {
        "id": "BrNNG6D8gL5E",
        "outputId": "7caa0e55-538d-46e7-a9a4-c5ab6da49704",
        "execution": {
          "iopub.status.busy": "2022-07-16T13:40:20.031089Z",
          "iopub.execute_input": "2022-07-16T13:40:20.03166Z",
          "iopub.status.idle": "2022-07-16T13:40:20.26442Z",
          "shell.execute_reply.started": "2022-07-16T13:40:20.03162Z",
          "shell.execute_reply": "2022-07-16T13:40:20.262872Z"
        },
        "trusted": true,
        "colab": {
          "base_uri": "https://localhost:8080/",
          "height": 341
        }
      },
      "execution_count": 21,
      "outputs": [
        {
          "output_type": "display_data",
          "data": {
            "text/plain": [
              "<Figure size 504x360 with 1 Axes>"
            ],
            "image/png": "[encoded data removed]"
          },
          "metadata": {
            "needs_background": "light"
          }
        }
      ]
    },
    {
      "cell_type": "code",
      "source": [
        "# checking long tweets\n",
        "df.sort_values(by=['text_len'], ascending=False)"
      ],
      "metadata": {
        "id": "cn47PsbxwFSs",
        "outputId": "7b5941e5-fdb8-4ce7-89e4-da9a295febf7",
        "execution": {
          "iopub.status.busy": "2022-07-16T13:40:20.266723Z",
          "iopub.execute_input": "2022-07-16T13:40:20.268216Z",
          "iopub.status.idle": "2022-07-16T13:40:20.303364Z",
          "shell.execute_reply.started": "2022-07-16T13:40:20.268148Z",
          "shell.execute_reply": "2022-07-16T13:40:20.302046Z"
        },
        "trusted": true,
        "colab": {
          "base_uri": "https://localhost:8080/",
          "height": 537
        }
      },
      "execution_count": 22,
      "outputs": [
        {
          "output_type": "execute_result",
          "data": {
            "text/plain": [
              "                                                    text  sentiment  \\\n",
              "44035  You so black and white trying to live like a n...          4   \n",
              "45165  @hermdiggz: “@tayyoung_: FUCK OBAMA, dumb ass ...          4   \n",
              "33724  ... I don't feel guilty for killing him, I jus...          2   \n",
              "1317   @EurekAlertAAAS: Researchers push to import to...          5   \n",
              "47037  @Purely_Ambition: Sooo mad. RT @TracePeterson ...          4   \n",
              "...                                                  ...        ...   \n",
              "1607        @harmlesstree2 Here7 https://t.co/xWJzpSodGj          5   \n",
              "6696                             @LiamTighe Rebecca who?          5   \n",
              "558                         @root_tim this is my work :)          5   \n",
              "3462                        @jaredchase killing you how?          5   \n",
              "10                  @Jord_Is_Dead http://t.co/UsQInYW5Gn          5   \n",
              "\n",
              "                                              text_clean  text_len  \n",
              "44035  black white tri live like nigger pahahahaha co...       187  \n",
              "45165  fuck obama dumb ass nigger bitch ltthi whore s...       162  \n",
              "33724  feel guilti kill feel guilti enjoy torment sin...       137  \n",
              "1317   research push import top antibulli program us ...       137  \n",
              "47037  sooo mad rt fuck obama dumb nigger go switzerl...       125  \n",
              "...                                                  ...       ...  \n",
              "1607                                               here7         1  \n",
              "6696                                             rebecca         1  \n",
              "558                                                 work         1  \n",
              "3462                                                kill         1  \n",
              "10                                                               0  \n",
              "\n",
              "[38820 rows x 4 columns]"
            ],
            "text/html": [
              "\n",
              "  <div id=\"df-e0b66003-3a68-4a12-bc9a-c71722a87644\">\n",
              "    <div class=\"colab-df-container\">\n",
              "      <div>\n",
              "<style scoped>\n",
              "    .dataframe tbody tr th:only-of-type {\n",
              "        vertical-align: middle;\n",
              "    }\n",
              "\n",
              "    .dataframe tbody tr th {\n",
              "        vertical-align: top;\n",
              "    }\n",
              "\n",
              "    .dataframe thead th {\n",
              "        text-align: right;\n",
              "    }\n",
              "</style>\n",
              "<table border=\"1\" class=\"dataframe\">\n",
              "  <thead>\n",
              "    <tr style=\"text-align: right;\">\n",
              "      <th></th>\n",
              "      <th>text</th>\n",
              "      <th>sentiment</th>\n",
              "      <th>text_clean</th>\n",
              "      <th>text_len</th>\n",
              "    </tr>\n",
              "  </thead>\n",
              "  <tbody>\n",
              "    <tr>\n",
              "      <th>44035</th>\n",
              "      <td>You so black and white trying to live like a n...</td>\n",
              "      <td>4</td>\n",
              "      <td>black white tri live like nigger pahahahaha co...</td>\n",
              "      <td>187</td>\n",
              "    </tr>\n",
              "    <tr>\n",
              "      <th>45165</th>\n",
              "      <td>@hermdiggz: “@tayyoung_: FUCK OBAMA, dumb ass ...</td>\n",
              "      <td>4</td>\n",
              "      <td>fuck obama dumb ass nigger bitch ltthi whore s...</td>\n",
              "      <td>162</td>\n",
              "    </tr>\n",
              "    <tr>\n",
              "      <th>33724</th>\n",
              "      <td>... I don't feel guilty for killing him, I jus...</td>\n",
              "      <td>2</td>\n",
              "      <td>feel guilti kill feel guilti enjoy torment sin...</td>\n",
              "      <td>137</td>\n",
              "    </tr>\n",
              "    <tr>\n",
              "      <th>1317</th>\n",
              "      <td>@EurekAlertAAAS: Researchers push to import to...</td>\n",
              "      <td>5</td>\n",
              "      <td>research push import top antibulli program us ...</td>\n",
              "      <td>137</td>\n",
              "    </tr>\n",
              "    <tr>\n",
              "      <th>47037</th>\n",
              "      <td>@Purely_Ambition: Sooo mad. RT @TracePeterson ...</td>\n",
              "      <td>4</td>\n",
              "      <td>sooo mad rt fuck obama dumb nigger go switzerl...</td>\n",
              "      <td>125</td>\n",
              "    </tr>\n",
              "    <tr>\n",
              "      <th>...</th>\n",
              "      <td>...</td>\n",
              "      <td>...</td>\n",
              "      <td>...</td>\n",
              "      <td>...</td>\n",
              "    </tr>\n",
              "    <tr>\n",
              "      <th>1607</th>\n",
              "      <td>@harmlesstree2 Here7 https://t.co/xWJzpSodGj</td>\n",
              "      <td>5</td>\n",
              "      <td>here7</td>\n",
              "      <td>1</td>\n",
              "    </tr>\n",
              "    <tr>\n",
              "      <th>6696</th>\n",
              "      <td>@LiamTighe Rebecca who?</td>\n",
              "      <td>5</td>\n",
              "      <td>rebecca</td>\n",
              "      <td>1</td>\n",
              "    </tr>\n",
              "    <tr>\n",
              "      <th>558</th>\n",
              "      <td>@root_tim this is my work :)</td>\n",
              "      <td>5</td>\n",
              "      <td>work</td>\n",
              "      <td>1</td>\n",
              "    </tr>\n",
              "    <tr>\n",
              "      <th>3462</th>\n",
              "      <td>@jaredchase killing you how?</td>\n",
              "      <td>5</td>\n",
              "      <td>kill</td>\n",
              "      <td>1</td>\n",
              "    </tr>\n",
              "    <tr>\n",
              "      <th>10</th>\n",
              "      <td>@Jord_Is_Dead http://t.co/UsQInYW5Gn</td>\n",
              "      <td>5</td>\n",
              "      <td></td>\n",
              "      <td>0</td>\n",
              "    </tr>\n",
              "  </tbody>\n",
              "</table>\n",
              "<p>38820 rows × 4 columns</p>\n",
              "</div>\n",
              "      <button class=\"colab-df-convert\" onclick=\"convertToInteractive('df-e0b66003-3a68-4a12-bc9a-c71722a87644')\"\n",
              "              title=\"Convert this dataframe to an interactive table.\"\n",
              "              style=\"display:none;\">\n",
              "        \n",
              "  <svg xmlns=\"http://www.w3.org/2000/svg\" height=\"24px\"viewBox=\"0 0 24 24\"\n",
              "       width=\"24px\">\n",
              "    <path d=\"M0 0h24v24H0V0z\" fill=\"none\"/>\n",
              "    <path d=\"M18.56 5.44l.94 2.06.94-2.06 2.06-.94-2.06-.94-.94-2.06-.94 2.06-2.06.94zm-11 1L8.5 8.5l.94-2.06 2.06-.94-2.06-.94L8.5 2.5l-.94 2.06-2.06.94zm10 10l.94 2.06.94-2.06 2.06-.94-2.06-.94-.94-2.06-.94 2.06-2.06.94z\"/><path d=\"M17.41 7.96l-1.37-1.37c-.4-.4-.92-.59-1.43-.59-.52 0-1.04.2-1.43.59L10.3 9.45l-7.72 7.72c-.78.78-.78 2.05 0 2.83L4 21.41c.39.39.9.59 1.41.59.51 0 1.02-.2 1.41-.59l7.78-7.78 2.81-2.81c.8-.78.8-2.07 0-2.86zM5.41 20L4 18.59l7.72-7.72 1.47 1.35L5.41 20z\"/>\n",
              "  </svg>\n",
              "      </button>\n",
              "      \n",
              "  <style>\n",
              "    .colab-df-container {\n",
              "      display:flex;\n",
              "      flex-wrap:wrap;\n",
              "      gap: 12px;\n",
              "    }\n",
              "\n",
              "    .colab-df-convert {\n",
              "      background-color: #E8F0FE;\n",
              "      border: none;\n",
              "      border-radius: 50%;\n",
              "      cursor: pointer;\n",
              "      display: none;\n",
              "      fill: #1967D2;\n",
              "      height: 32px;\n",
              "      padding: 0 0 0 0;\n",
              "      width: 32px;\n",
              "    }\n",
              "\n",
              "    .colab-df-convert:hover {\n",
              "      background-color: #E2EBFA;\n",
              "      box-shadow: 0px 1px 2px rgba(60, 64, 67, 0.3), 0px 1px 3px 1px rgba(60, 64, 67, 0.15);\n",
              "      fill: #174EA6;\n",
              "    }\n",
              "\n",
              "    [theme=dark] .colab-df-convert {\n",
              "      background-color: #3B4455;\n",
              "      fill: #D2E3FC;\n",
              "    }\n",
              "\n",
              "    [theme=dark] .colab-df-convert:hover {\n",
              "      background-color: #434B5C;\n",
              "      box-shadow: 0px 1px 3px 1px rgba(0, 0, 0, 0.15);\n",
              "      filter: drop-shadow(0px 1px 2px rgba(0, 0, 0, 0.3));\n",
              "      fill: #FFFFFF;\n",
              "    }\n",
              "  </style>\n",
              "\n",
              "      <script>\n",
              "        const buttonEl =\n",
              "          document.querySelector('#df-e0b66003-3a68-4a12-bc9a-c71722a87644 button.colab-df-convert');\n",
              "        buttonEl.style.display =\n",
              "          google.colab.kernel.accessAllowed ? 'block' : 'none';\n",
              "\n",
              "        async function convertToInteractive(key) {\n",
              "          const element = document.querySelector('#df-e0b66003-3a68-4a12-bc9a-c71722a87644');\n",
              "          const dataTable =\n",
              "            await google.colab.kernel.invokeFunction('convertToInteractive',\n",
              "                                                     [key], {});\n",
              "          if (!dataTable) return;\n",
              "\n",
              "          const docLinkHtml = 'Like what you see? Visit the ' +\n",
              "            '<a target=\"_blank\" href=https://colab.research.google.com/notebooks/data_table.ipynb>data table notebook</a>'\n",
              "            + ' to learn more about interactive tables.';\n",
              "          element.innerHTML = '';\n",
              "          dataTable['output_type'] = 'display_data';\n",
              "          await google.colab.output.renderOutput(dataTable, element);\n",
              "          const docLink = document.createElement('div');\n",
              "          docLink.innerHTML = docLinkHtml;\n",
              "          element.appendChild(docLink);\n",
              "        }\n",
              "      </script>\n",
              "    </div>\n",
              "  </div>\n",
              "  "
            ]
          },
          "metadata": {},
          "execution_count": 22
        }
      ]
    },
    {
      "cell_type": "markdown",
      "source": [
        "**Removing tweets with less than 4 words and more than 100 words as they can be outliers**"
      ],
      "metadata": {
        "id": "N6-kxvz5vtZM"
      }
    },
    {
      "cell_type": "code",
      "source": [
        "df = df[df['text_len'] > 3]\n",
        "df = df[df['text_len'] < 100]"
      ],
      "metadata": {
        "id": "TKvB4uAuvz57",
        "execution": {
          "iopub.status.busy": "2022-07-16T13:40:20.305181Z",
          "iopub.execute_input": "2022-07-16T13:40:20.305613Z",
          "iopub.status.idle": "2022-07-16T13:40:20.322709Z",
          "shell.execute_reply.started": "2022-07-16T13:40:20.305576Z",
          "shell.execute_reply": "2022-07-16T13:40:20.321695Z"
        },
        "trusted": true
      },
      "execution_count": 23,
      "outputs": []
    },
    {
      "cell_type": "code",
      "source": [
        "df"
      ],
      "metadata": {
        "id": "7VBbVuu31bdN",
        "outputId": "1e126b8d-622c-49e8-be44-949fcb7a800f",
        "execution": {
          "iopub.status.busy": "2022-07-16T13:40:20.324166Z",
          "iopub.execute_input": "2022-07-16T13:40:20.324526Z",
          "iopub.status.idle": "2022-07-16T13:40:20.342643Z",
          "shell.execute_reply.started": "2022-07-16T13:40:20.324494Z",
          "shell.execute_reply": "2022-07-16T13:40:20.341491Z"
        },
        "trusted": true,
        "colab": {
          "base_uri": "https://localhost:8080/",
          "height": 606
        }
      },
      "execution_count": 24,
      "outputs": [
        {
          "output_type": "execute_result",
          "data": {
            "text/plain": [
              "                                                    text  sentiment  \\\n",
              "0      In other words #katandandre, your food was cra...          5   \n",
              "1      Why is #aussietv so white? #MKR #theblock #ImA...          5   \n",
              "2      @XochitlSuckkks a classy whore? Or more red ve...          5   \n",
              "3      @Jason_Gio meh. :P  thanks for the heads up, b...          5   \n",
              "4      @RudhoeEnglish This is an ISIS account pretend...          5   \n",
              "...                                                  ...        ...   \n",
              "47687  Black ppl aren't expected to do anything, depe...          4   \n",
              "47688  Turner did not withhold his disappointment. Tu...          4   \n",
              "47689  I swear to God. This dumb nigger bitch. I have...          4   \n",
              "47690  Yea fuck you RT @therealexel: IF YOURE A NIGGE...          4   \n",
              "47691  Bro. U gotta chill RT @CHILLShrammy: Dog FUCK ...          4   \n",
              "\n",
              "                                              text_clean  text_len  \n",
              "0                     word katandandr food crapilici mkr         5  \n",
              "1      aussietv white mkr theblock today sunris studi...        10  \n",
              "2                         classi whore red velvet cupcak         5  \n",
              "3      meh p thank head concern anoth angri dude twitter         9  \n",
              "4      isi account pretend kurdish account like islam...         8  \n",
              "...                                                  ...       ...  \n",
              "47687  black ppl expect anyth depend anyth yet free p...        21  \n",
              "47688  turner withhold turner call court abomin concl...        28  \n",
              "47689  swear god dumb nigger bitch got bleach hair re...        13  \n",
              "47690  yea fuck rt your nigger fuck unfollow fuck dum...        10  \n",
              "47691  bro u got ta chill rt dog fuck kp dumb nigger ...        13  \n",
              "\n",
              "[37114 rows x 4 columns]"
            ],
            "text/html": [
              "\n",
              "  <div id=\"df-111ffd0e-74dc-41e3-82a2-8449f982510e\">\n",
              "    <div class=\"colab-df-container\">\n",
              "      <div>\n",
              "<style scoped>\n",
              "    .dataframe tbody tr th:only-of-type {\n",
              "        vertical-align: middle;\n",
              "    }\n",
              "\n",
              "    .dataframe tbody tr th {\n",
              "        vertical-align: top;\n",
              "    }\n",
              "\n",
              "    .dataframe thead th {\n",
              "        text-align: right;\n",
              "    }\n",
              "</style>\n",
              "<table border=\"1\" class=\"dataframe\">\n",
              "  <thead>\n",
              "    <tr style=\"text-align: right;\">\n",
              "      <th></th>\n",
              "      <th>text</th>\n",
              "      <th>sentiment</th>\n",
              "      <th>text_clean</th>\n",
              "      <th>text_len</th>\n",
              "    </tr>\n",
              "  </thead>\n",
              "  <tbody>\n",
              "    <tr>\n",
              "      <th>0</th>\n",
              "      <td>In other words #katandandre, your food was cra...</td>\n",
              "      <td>5</td>\n",
              "      <td>word katandandr food crapilici mkr</td>\n",
              "      <td>5</td>\n",
              "    </tr>\n",
              "    <tr>\n",
              "      <th>1</th>\n",
              "      <td>Why is #aussietv so white? #MKR #theblock #ImA...</td>\n",
              "      <td>5</td>\n",
              "      <td>aussietv white mkr theblock today sunris studi...</td>\n",
              "      <td>10</td>\n",
              "    </tr>\n",
              "    <tr>\n",
              "      <th>2</th>\n",
              "      <td>@XochitlSuckkks a classy whore? Or more red ve...</td>\n",
              "      <td>5</td>\n",
              "      <td>classi whore red velvet cupcak</td>\n",
              "      <td>5</td>\n",
              "    </tr>\n",
              "    <tr>\n",
              "      <th>3</th>\n",
              "      <td>@Jason_Gio meh. :P  thanks for the heads up, b...</td>\n",
              "      <td>5</td>\n",
              "      <td>meh p thank head concern anoth angri dude twitter</td>\n",
              "      <td>9</td>\n",
              "    </tr>\n",
              "    <tr>\n",
              "      <th>4</th>\n",
              "      <td>@RudhoeEnglish This is an ISIS account pretend...</td>\n",
              "      <td>5</td>\n",
              "      <td>isi account pretend kurdish account like islam...</td>\n",
              "      <td>8</td>\n",
              "    </tr>\n",
              "    <tr>\n",
              "      <th>...</th>\n",
              "      <td>...</td>\n",
              "      <td>...</td>\n",
              "      <td>...</td>\n",
              "      <td>...</td>\n",
              "    </tr>\n",
              "    <tr>\n",
              "      <th>47687</th>\n",
              "      <td>Black ppl aren't expected to do anything, depe...</td>\n",
              "      <td>4</td>\n",
              "      <td>black ppl expect anyth depend anyth yet free p...</td>\n",
              "      <td>21</td>\n",
              "    </tr>\n",
              "    <tr>\n",
              "      <th>47688</th>\n",
              "      <td>Turner did not withhold his disappointment. Tu...</td>\n",
              "      <td>4</td>\n",
              "      <td>turner withhold turner call court abomin concl...</td>\n",
              "      <td>28</td>\n",
              "    </tr>\n",
              "    <tr>\n",
              "      <th>47689</th>\n",
              "      <td>I swear to God. This dumb nigger bitch. I have...</td>\n",
              "      <td>4</td>\n",
              "      <td>swear god dumb nigger bitch got bleach hair re...</td>\n",
              "      <td>13</td>\n",
              "    </tr>\n",
              "    <tr>\n",
              "      <th>47690</th>\n",
              "      <td>Yea fuck you RT @therealexel: IF YOURE A NIGGE...</td>\n",
              "      <td>4</td>\n",
              "      <td>yea fuck rt your nigger fuck unfollow fuck dum...</td>\n",
              "      <td>10</td>\n",
              "    </tr>\n",
              "    <tr>\n",
              "      <th>47691</th>\n",
              "      <td>Bro. U gotta chill RT @CHILLShrammy: Dog FUCK ...</td>\n",
              "      <td>4</td>\n",
              "      <td>bro u got ta chill rt dog fuck kp dumb nigger ...</td>\n",
              "      <td>13</td>\n",
              "    </tr>\n",
              "  </tbody>\n",
              "</table>\n",
              "<p>37114 rows × 4 columns</p>\n",
              "</div>\n",
              "      <button class=\"colab-df-convert\" onclick=\"convertToInteractive('df-111ffd0e-74dc-41e3-82a2-8449f982510e')\"\n",
              "              title=\"Convert this dataframe to an interactive table.\"\n",
              "              style=\"display:none;\">\n",
              "        \n",
              "  <svg xmlns=\"http://www.w3.org/2000/svg\" height=\"24px\"viewBox=\"0 0 24 24\"\n",
              "       width=\"24px\">\n",
              "    <path d=\"M0 0h24v24H0V0z\" fill=\"none\"/>\n",
              "    <path d=\"M18.56 5.44l.94 2.06.94-2.06 2.06-.94-2.06-.94-.94-2.06-.94 2.06-2.06.94zm-11 1L8.5 8.5l.94-2.06 2.06-.94-2.06-.94L8.5 2.5l-.94 2.06-2.06.94zm10 10l.94 2.06.94-2.06 2.06-.94-2.06-.94-.94-2.06-.94 2.06-2.06.94z\"/><path d=\"M17.41 7.96l-1.37-1.37c-.4-.4-.92-.59-1.43-.59-.52 0-1.04.2-1.43.59L10.3 9.45l-7.72 7.72c-.78.78-.78 2.05 0 2.83L4 21.41c.39.39.9.59 1.41.59.51 0 1.02-.2 1.41-.59l7.78-7.78 2.81-2.81c.8-.78.8-2.07 0-2.86zM5.41 20L4 18.59l7.72-7.72 1.47 1.35L5.41 20z\"/>\n",
              "  </svg>\n",
              "      </button>\n",
              "      \n",
              "  <style>\n",
              "    .colab-df-container {\n",
              "      display:flex;\n",
              "      flex-wrap:wrap;\n",
              "      gap: 12px;\n",
              "    }\n",
              "\n",
              "    .colab-df-convert {\n",
              "      background-color: #E8F0FE;\n",
              "      border: none;\n",
              "      border-radius: 50%;\n",
              "      cursor: pointer;\n",
              "      display: none;\n",
              "      fill: #1967D2;\n",
              "      height: 32px;\n",
              "      padding: 0 0 0 0;\n",
              "      width: 32px;\n",
              "    }\n",
              "\n",
              "    .colab-df-convert:hover {\n",
              "      background-color: #E2EBFA;\n",
              "      box-shadow: 0px 1px 2px rgba(60, 64, 67, 0.3), 0px 1px 3px 1px rgba(60, 64, 67, 0.15);\n",
              "      fill: #174EA6;\n",
              "    }\n",
              "\n",
              "    [theme=dark] .colab-df-convert {\n",
              "      background-color: #3B4455;\n",
              "      fill: #D2E3FC;\n",
              "    }\n",
              "\n",
              "    [theme=dark] .colab-df-convert:hover {\n",
              "      background-color: #434B5C;\n",
              "      box-shadow: 0px 1px 3px 1px rgba(0, 0, 0, 0.15);\n",
              "      filter: drop-shadow(0px 1px 2px rgba(0, 0, 0, 0.3));\n",
              "      fill: #FFFFFF;\n",
              "    }\n",
              "  </style>\n",
              "\n",
              "      <script>\n",
              "        const buttonEl =\n",
              "          document.querySelector('#df-111ffd0e-74dc-41e3-82a2-8449f982510e button.colab-df-convert');\n",
              "        buttonEl.style.display =\n",
              "          google.colab.kernel.accessAllowed ? 'block' : 'none';\n",
              "\n",
              "        async function convertToInteractive(key) {\n",
              "          const element = document.querySelector('#df-111ffd0e-74dc-41e3-82a2-8449f982510e');\n",
              "          const dataTable =\n",
              "            await google.colab.kernel.invokeFunction('convertToInteractive',\n",
              "                                                     [key], {});\n",
              "          if (!dataTable) return;\n",
              "\n",
              "          const docLinkHtml = 'Like what you see? Visit the ' +\n",
              "            '<a target=\"_blank\" href=https://colab.research.google.com/notebooks/data_table.ipynb>data table notebook</a>'\n",
              "            + ' to learn more about interactive tables.';\n",
              "          element.innerHTML = '';\n",
              "          dataTable['output_type'] = 'display_data';\n",
              "          await google.colab.output.renderOutput(dataTable, element);\n",
              "          const docLink = document.createElement('div');\n",
              "          docLink.innerHTML = docLinkHtml;\n",
              "          element.appendChild(docLink);\n",
              "        }\n",
              "      </script>\n",
              "    </div>\n",
              "  </div>\n",
              "  "
            ]
          },
          "metadata": {},
          "execution_count": 24
        }
      ]
    },
    {
      "cell_type": "markdown",
      "source": [
        "# Creating a word cloud"
      ],
      "metadata": {
        "id": "Vfe8OzWK0AkM"
      }
    },
    {
      "cell_type": "code",
      "source": [
        "from wordcloud import WordCloud, STOPWORDS, ImageColorGenerator\n",
        "import matplotlib.pyplot as plt #to display our wordcloud\n",
        "from PIL import Image #to load our image\n",
        "import numpy as np #to get the color of our image"
      ],
      "metadata": {
        "id": "ObPRz00W0EPk",
        "execution": {
          "iopub.status.busy": "2022-07-16T13:40:20.344247Z",
          "iopub.execute_input": "2022-07-16T13:40:20.345377Z",
          "iopub.status.idle": "2022-07-16T13:40:20.352991Z",
          "shell.execute_reply.started": "2022-07-16T13:40:20.345319Z",
          "shell.execute_reply": "2022-07-16T13:40:20.351869Z"
        },
        "trusted": true
      },
      "execution_count": 25,
      "outputs": []
    },
    {
      "cell_type": "markdown",
      "source": [
        "**0 - religion </br>\n",
        "1 - age  </br> \n",
        "2 - gender </br>\n",
        "3 - ethnicity </br>\n",
        "4 - cyberbullying**"
      ],
      "metadata": {
        "id": "swI9bqhu3CC9"
      }
    },
    {
      "cell_type": "markdown",
      "source": [
        "# Turning text into numbers"
      ],
      "metadata": {
        "id": "l9juW-u9fXIU"
      }
    },
    {
      "cell_type": "code",
      "source": [
        "from sklearn.feature_extraction.text import CountVectorizer \n",
        "from sklearn.feature_extraction.text import TfidfTransformer\n",
        "from sklearn.pipeline import Pipeline\n",
        "\n",
        "\n",
        "tfidf = TfidfTransformer()\n",
        "clf = CountVectorizer()\n",
        "\n",
        "X_cv =  clf.fit_transform(df['text_clean'])\n",
        "\n",
        "tf_transformer = TfidfTransformer(use_idf=True).fit(X_cv)\n",
        "X_tf = tf_transformer.transform(X_cv)"
      ],
      "metadata": {
        "id": "3Pa8VRm4fZ-U",
        "execution": {
          "iopub.status.busy": "2022-07-16T13:40:30.300411Z",
          "iopub.execute_input": "2022-07-16T13:40:30.300766Z",
          "iopub.status.idle": "2022-07-16T13:40:31.234777Z",
          "shell.execute_reply.started": "2022-07-16T13:40:30.300732Z",
          "shell.execute_reply": "2022-07-16T13:40:31.233907Z"
        },
        "trusted": true
      },
      "execution_count": 27,
      "outputs": []
    },
    {
      "cell_type": "code",
      "source": [
        "X_tf"
      ],
      "metadata": {
        "id": "lpbUC_ib2msN",
        "outputId": "2d3f1780-9de5-4bed-e936-28bf51815a43",
        "execution": {
          "iopub.status.busy": "2022-07-16T13:40:31.240838Z",
          "iopub.execute_input": "2022-07-16T13:40:31.241414Z",
          "iopub.status.idle": "2022-07-16T13:40:31.248106Z",
          "shell.execute_reply.started": "2022-07-16T13:40:31.241373Z",
          "shell.execute_reply": "2022-07-16T13:40:31.247232Z"
        },
        "trusted": true,
        "colab": {
          "base_uri": "https://localhost:8080/"
        }
      },
      "execution_count": 28,
      "outputs": [
        {
          "output_type": "execute_result",
          "data": {
            "text/plain": [
              "<37114x32979 sparse matrix of type '<class 'numpy.float64'>'\n",
              "\twith 504608 stored elements in Compressed Sparse Row format>"
            ]
          },
          "metadata": {},
          "execution_count": 28
        }
      ]
    },
    {
      "cell_type": "markdown",
      "source": [
        "# Train test split"
      ],
      "metadata": {
        "id": "r3t0Jaq4wQ30"
      }
    },
    {
      "cell_type": "code",
      "source": [
        "from sklearn.model_selection import train_test_split\n",
        "# train and test\n",
        "X_train, X_test, y_train, y_test = train_test_split(X_tf, df['sentiment'], test_size=0.20, stratify=df['sentiment'], random_state=42)"
      ],
      "metadata": {
        "id": "FDUILdpYwTJ8",
        "execution": {
          "iopub.status.busy": "2022-07-16T13:40:31.249466Z",
          "iopub.execute_input": "2022-07-16T13:40:31.249866Z",
          "iopub.status.idle": "2022-07-16T13:40:31.280894Z",
          "shell.execute_reply.started": "2022-07-16T13:40:31.249834Z",
          "shell.execute_reply": "2022-07-16T13:40:31.279622Z"
        },
        "trusted": true
      },
      "execution_count": 29,
      "outputs": []
    },
    {
      "cell_type": "code",
      "source": [
        "y_train.value_counts()"
      ],
      "metadata": {
        "id": "k8zMKgSnyqM0",
        "outputId": "68776021-38cd-456b-e992-3381f352f73c",
        "execution": {
          "iopub.status.busy": "2022-07-16T13:47:16.160051Z",
          "iopub.execute_input": "2022-07-16T13:47:16.160445Z",
          "iopub.status.idle": "2022-07-16T13:47:16.169482Z",
          "shell.execute_reply.started": "2022-07-16T13:47:16.160414Z",
          "shell.execute_reply": "2022-07-16T13:47:16.16856Z"
        },
        "trusted": true,
        "colab": {
          "base_uri": "https://localhost:8080/"
        }
      },
      "execution_count": 30,
      "outputs": [
        {
          "output_type": "execute_result",
          "data": {
            "text/plain": [
              "0    6314\n",
              "1    6264\n",
              "3    6167\n",
              "2    5849\n",
              "4    5097\n",
              "Name: sentiment, dtype: int64"
            ]
          },
          "metadata": {},
          "execution_count": 30
        }
      ]
    },
    {
      "cell_type": "markdown",
      "source": [
        "**after checking the training set, there are imbalance of data and it may cause a bias in training the model. Oversampling using SMOTE will be used to balance the train dataset.**"
      ],
      "metadata": {
        "id": "Oe1gh1DZ0jT0"
      }
    },
    {
      "cell_type": "markdown",
      "source": [
        "# SMOTE"
      ],
      "metadata": {
        "id": "dhwK6o6M01gt"
      }
    },
    {
      "cell_type": "code",
      "source": [
        "from imblearn.over_sampling import SMOTE\n",
        "vc = y_train.value_counts()\n",
        "while (vc[0] != vc[4]) or (vc[0] !=  vc[2]) or (vc[0] !=  vc[3]) or (vc[0] !=  vc[1]):\n",
        "    smote = SMOTE(sampling_strategy='minority')\n",
        "    X_train, y_train = smote.fit_resample(X_train, y_train)\n",
        "    vc = y_train.value_counts()\n",
        "\n",
        "y_train.value_counts()"
      ],
      "metadata": {
        "id": "sV9e7XGf03KV",
        "outputId": "dc5e4f8d-eb57-4b52-ef94-d25c5e258bde",
        "execution": {
          "iopub.status.busy": "2022-07-16T13:51:08.763682Z",
          "iopub.execute_input": "2022-07-16T13:51:08.764236Z",
          "iopub.status.idle": "2022-07-16T13:51:10.889916Z",
          "shell.execute_reply.started": "2022-07-16T13:51:08.764187Z",
          "shell.execute_reply": "2022-07-16T13:51:10.888791Z"
        },
        "trusted": true,
        "colab": {
          "base_uri": "https://localhost:8080/"
        }
      },
      "execution_count": 31,
      "outputs": [
        {
          "output_type": "execute_result",
          "data": {
            "text/plain": [
              "4    6314\n",
              "0    6314\n",
              "3    6314\n",
              "2    6314\n",
              "1    6314\n",
              "Name: sentiment, dtype: int64"
            ]
          },
          "metadata": {},
          "execution_count": 31
        }
      ]
    },
    {
      "cell_type": "markdown",
      "source": [
        "**Now the training set is balanced and ready to be feed into the ml model.**"
      ],
      "metadata": {
        "id": "6J8NYu8r4Z_E"
      }
    },
    {
      "cell_type": "markdown",
      "source": [
        "# Model Training"
      ],
      "metadata": {
        "id": "oT1CMoabe3LM"
      }
    },
    {
      "cell_type": "markdown",
      "source": [
        "## Random Forest"
      ],
      "metadata": {
        "id": "KBsVEwGu5z9V"
      }
    },
    {
      "cell_type": "code",
      "source": [
        "from sklearn.ensemble import RandomForestClassifier\n",
        "rf_clf = RandomForestClassifier()\n",
        "rf_clf.fit(X_train, y_train)"
      ],
      "metadata": {
        "id": "m3fkn98V54L9",
        "outputId": "17e6d023-56e9-427f-f794-8e9b1b3724d2",
        "execution": {
          "iopub.status.busy": "2022-07-16T13:16:47.332828Z",
          "iopub.execute_input": "2022-07-16T13:16:47.333653Z",
          "iopub.status.idle": "2022-07-16T13:18:09.383247Z",
          "shell.execute_reply.started": "2022-07-16T13:16:47.333609Z",
          "shell.execute_reply": "2022-07-16T13:18:09.382304Z"
        },
        "trusted": true,
        "colab": {
          "base_uri": "https://localhost:8080/"
        }
      },
      "execution_count": 33,
      "outputs": [
        {
          "output_type": "execute_result",
          "data": {
            "text/plain": [
              "RandomForestClassifier()"
            ]
          },
          "metadata": {},
          "execution_count": 33
        }
      ]
    },
    {
      "cell_type": "markdown",
      "source": [
        "# Model Evaluation"
      ],
      "metadata": {
        "id": "95NK7bDge6kr"
      }
    },
    {
      "cell_type": "markdown",
      "source": [
        "## **Classification Report**"
      ],
      "metadata": {
        "id": "FowHmkOW3a98"
      }
    },
    {
      "cell_type": "code",
      "source": [
        "from sklearn.metrics import classification_report\n",
        "rf_pred = rf_clf.predict(X_test)\n",
        "print('Classification Report for Random Forest:\\n',classification_report(y_test, rf_pred, target_names=sentiments))"
      ],
      "metadata": {
        "id": "5h2EP1oJ6WQo",
        "outputId": "8a0f3c63-54ae-4d12-afd4-508cd5ab9331",
        "execution": {
          "iopub.status.busy": "2022-07-16T13:19:38.803054Z",
          "iopub.execute_input": "2022-07-16T13:19:38.803387Z",
          "iopub.status.idle": "2022-07-16T13:19:39.389031Z",
          "shell.execute_reply.started": "2022-07-16T13:19:38.803357Z",
          "shell.execute_reply": "2022-07-16T13:19:39.387728Z"
        },
        "trusted": true,
        "colab": {
          "base_uri": "https://localhost:8080/"
        }
      },
      "execution_count": 36,
      "outputs": [
        {
          "output_type": "stream",
          "name": "stdout",
          "text": [
            "Classification Report for Random Forest:\n",
            "                    precision    recall  f1-score   support\n",
            "\n",
            "         religion       0.97      0.96      0.96      1579\n",
            "              age       0.98      0.98      0.98      1566\n",
            "           gender       0.96      0.87      0.91      1462\n",
            "        ethnicity       0.99      0.99      0.99      1542\n",
            "not_cyberbullying       0.80      0.89      0.85      1274\n",
            "\n",
            "         accuracy                           0.94      7423\n",
            "        macro avg       0.94      0.94      0.94      7423\n",
            "     weighted avg       0.94      0.94      0.94      7423\n",
            "\n"
          ]
        }
      ]
    },
    {
      "cell_type": "markdown",
      "source": [
        "## Confusion Matrix"
      ],
      "metadata": {
        "id": "76XDSxRxKhBE"
      }
    },
    {
      "cell_type": "code",
      "source": [
        "#@title\n",
        "from sklearn.metrics import confusion_matrix \n",
        "# Source code credit for this function: https://gist.github.com/shaypal5/94c53d765083101efc0240d776a23823\n",
        "def print_confusion_matrix(confusion_matrix, class_names, figsize = (10,7), fontsize=14):\n",
        "    df_cm = pd.DataFrame(\n",
        "        confusion_matrix, index=class_names, columns=class_names, \n",
        "    )\n",
        "    fig = plt.figure(figsize=figsize)\n",
        "    try:\n",
        "        heatmap = sns.heatmap(df_cm, annot=True, fmt=\"d\")\n",
        "    except ValueError:\n",
        "        raise ValueError(\"Confusion matrix values must be integers.\")\n",
        "    heatmap.yaxis.set_ticklabels(heatmap.yaxis.get_ticklabels(), rotation=0, ha='right', fontsize=fontsize)\n",
        "    heatmap.xaxis.set_ticklabels(heatmap.xaxis.get_ticklabels(), rotation=45, ha='right', fontsize=fontsize)\n",
        "    plt.ylabel('Truth')\n",
        "    plt.xlabel('Prediction')"
      ],
      "metadata": {
        "id": "TJc6qNHzKjuM",
        "_kg_hide-input": true,
        "execution": {
          "iopub.status.busy": "2022-07-16T13:19:50.04673Z",
          "iopub.execute_input": "2022-07-16T13:19:50.047148Z",
          "iopub.status.idle": "2022-07-16T13:19:50.058304Z",
          "shell.execute_reply.started": "2022-07-16T13:19:50.047115Z",
          "shell.execute_reply": "2022-07-16T13:19:50.057034Z"
        },
        "trusted": true
      },
      "execution_count": 37,
      "outputs": []
    },
    {
      "cell_type": "code",
      "source": [
        "# Random Forest\n",
        "cm = confusion_matrix(y_test,rf_pred)\n",
        "print_confusion_matrix(cm,sentiments)"
      ],
      "metadata": {
        "id": "v5TTdwZWMJt0",
        "outputId": "3e670aab-9aa8-4eac-b7a3-28f78b5ed66f",
        "execution": {
          "iopub.status.busy": "2022-07-16T13:20:05.699809Z",
          "iopub.execute_input": "2022-07-16T13:20:05.700652Z",
          "iopub.status.idle": "2022-07-16T13:20:06.032801Z",
          "shell.execute_reply.started": "2022-07-16T13:20:05.700612Z",
          "shell.execute_reply": "2022-07-16T13:20:06.031624Z"
        },
        "trusted": true,
        "colab": {
          "base_uri": "https://localhost:8080/",
          "height": 531
        }
      },
      "execution_count": 38,
      "outputs": [
        {
          "output_type": "display_data",
          "data": {
            "text/plain": [
              "<Figure size 720x504 with 2 Axes>"
            ],
            "image/png": "[encoded data removed]"
          },
          "metadata": {
            "needs_background": "light"
          }
        }
      ]
    },
    {
      "cell_type": "markdown",
      "source": [
        "## Cross Validation Score"
      ],
      "metadata": {
        "id": "-IAOGxbP8zrk"
      }
    },
    {
      "cell_type": "code",
      "source": [
        "from sklearn.model_selection import cross_val_score\n",
        "\n",
        "RF_cv_score = cross_val_score(rf_clf,X_train, y_train, cv=3)\n",
        "\n",
        "print('Cross validation score (Random Forest Classifier):', RF_cv_score.mean())"
      ],
      "metadata": {
        "id": "tNj5ATEJ82It",
        "outputId": "3adc3f89-2530-428c-ee81-3521a6e34cb1",
        "execution": {
          "iopub.status.busy": "2022-07-16T13:20:09.179299Z",
          "iopub.execute_input": "2022-07-16T13:20:09.179733Z",
          "iopub.status.idle": "2022-07-16T13:22:59.946981Z",
          "shell.execute_reply.started": "2022-07-16T13:20:09.179696Z",
          "shell.execute_reply": "2022-07-16T13:22:59.945751Z"
        },
        "trusted": true,
        "colab": {
          "base_uri": "https://localhost:8080/"
        }
      },
      "execution_count": 39,
      "outputs": [
        {
          "output_type": "stream",
          "name": "stdout",
          "text": [
            "Cross validation score (Random Forest Classifier): 0.9395629422457229\n"
          ]
        }
      ]
    }
  ]
}